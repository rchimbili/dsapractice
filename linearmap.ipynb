{
  "nbformat": 4,
  "nbformat_minor": 0,
  "metadata": {
    "colab": {
      "name": "Untitled6.ipynb",
      "provenance": [],
      "authorship_tag": "ABX9TyPnveEyDd3j5ClyBSKsFUem",
      "include_colab_link": true
    },
    "kernelspec": {
      "name": "python3",
      "display_name": "Python 3"
    },
    "language_info": {
      "name": "python"
    }
  },
  "cells": [
    {
      "cell_type": "markdown",
      "metadata": {
        "id": "view-in-github",
        "colab_type": "text"
      },
      "source": [
        "<a href=\"https://colab.research.google.com/github/rchimbili/dsapractice/blob/main/linearmap.ipynb\" target=\"_parent\"><img src=\"https://colab.research.google.com/assets/colab-badge.svg\" alt=\"Open In Colab\"/></a>"
      ]
    },
    {
      "cell_type": "code",
      "execution_count": 25,
      "metadata": {
        "id": "iZS3uy7eRgQf"
      },
      "outputs": [],
      "source": [
        "# Implementation of Map ADT using single list.\n",
        "class Map:\n",
        "  # Creates an empty map instance.\n",
        "  def __init__(self):\n",
        "    self._entryList = list()\n",
        "  \n",
        "  # Returns number of key/value pairs in map.\n",
        "  def length(self):\n",
        "    return len(self._entryList)\n",
        "  \n",
        "  # Determines if given key is in map and returns True if key is found and False otherwise.\n",
        "  def contains(self, key):\n",
        "    if key in self._entryList:\n",
        "      return True\n",
        "    else:\n",
        "      return False\n",
        "  \n",
        "  # Adds new key/value pair in map if key is not already present otherwise\n",
        "  # replaces the data associated with the key.\n",
        "  def add(self, key, value):\n",
        "    idx = self._findPosition(key)\n",
        "    if idx is not None:\n",
        "      self._entryList[idx].value = value\n",
        "    else:\n",
        "      entry = _MapEntry(key, value)\n",
        "      self._entryList.append(entry)\n",
        "  \n",
        "  def valueOf(self, key):\n",
        "    idx = self._findPosition(key)\n",
        "    assert idx is not None, \"Invalid map key\"\n",
        "    return self._entryList[idx].value\n",
        "  \n",
        "  def _findPosition(self,key):\n",
        "    for i in range(len(self._entryList)):\n",
        "      if self._entryList[i].key == key:\n",
        "        return i\n",
        "    return None\n",
        "\n",
        "  def __iter__(self):\n",
        "    return _MapIterator(self._entryList)\n",
        "\n",
        "\n",
        "\n"
      ]
    },
    {
      "cell_type": "code",
      "source": [
        "# Storage class for holding key value pairs\n",
        "class _MapEntry:\n",
        "  def __init__(self, key, value):\n",
        "    self.key = key\n",
        "    self.value = value\n",
        "\n",
        "class _MapIterator:\n",
        "  def __init__(self, theList):\n",
        "    self._items = theList\n",
        "    self._curIdx = 0\n",
        "  \n",
        "  def __iter__(self):\n",
        "    return self\n",
        "\n",
        "  def __next__(self):\n",
        "    if self._curIdx == len(self._items):\n",
        "      raise StopIteration\n",
        "    else:\n",
        "      item = self._items[self._curIdx]\n",
        "      self._curIdx += 1\n",
        "      return item\n"
      ],
      "metadata": {
        "id": "hK10jT4_TXru"
      },
      "execution_count": 24,
      "outputs": []
    },
    {
      "cell_type": "code",
      "source": [
        "new_test_map = Map()\n",
        "new_test_map.add(1, \"Raj\")\n",
        "new_test_map.add(5, \"Ram\")\n",
        "new_test_map.add(10, \"Jazz\")\n"
      ],
      "metadata": {
        "id": "izCxm9R3VKoV"
      },
      "execution_count": 26,
      "outputs": []
    },
    {
      "cell_type": "code",
      "source": [
        "for entry in new_test_map:\n",
        "  print(entry.key, entry.value)"
      ],
      "metadata": {
        "id": "eEguRB9DV_9x",
        "outputId": "cb2a5ac5-5e15-442a-86e4-1343cc13da65",
        "colab": {
          "base_uri": "https://localhost:8080/"
        }
      },
      "execution_count": 30,
      "outputs": [
        {
          "output_type": "stream",
          "name": "stdout",
          "text": [
            "1 Raj\n",
            "5 Ram\n",
            "10 Jazz\n"
          ]
        }
      ]
    }
  ]
}